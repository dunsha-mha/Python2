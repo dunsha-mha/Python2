{
 "cells": [
  {
   "cell_type": "code",
   "execution_count": 12,
   "metadata": {},
   "outputs": [
    {
     "name": "stdout",
     "output_type": "stream",
     "text": [
      "Parent Constructor Called\n",
      "Child Constructor Called\n",
      "Parent Constructor Called\n",
      "Last Name - Alves\n",
      "Eye Color - Green\n",
      "Number of toys - 5\n"
     ]
    }
   ],
   "source": [
    "#Inheritance and method overriding.\n",
    "\n",
    "class Parent():\n",
    "    def __init__(self, last_name, eye_color):\n",
    "        print(\"Parent Constructor Called\")\n",
    "        self.last_name = last_name\n",
    "        self.eye_color = eye_color\n",
    "\n",
    "    def show_info(self):\n",
    "        print(\"Last Name - \"+self.last_name)\n",
    "        print(\"Eye Color - \"+self.eye_color)\n",
    "        \n",
    "       \n",
    "        \n",
    "class Child(Parent):\n",
    "    def __init__(self, last_name, eye_color, number_of_toys):\n",
    "        print(\"Child Constructor Called\")\n",
    "        Parent.__init__(self, last_name, eye_color)\n",
    "        self.number_of_toys = number_of_toys\n",
    "        \n",
    "    def show_info(self):\n",
    "        print(\"Last Name - \"+self.last_name)\n",
    "        print(\"Eye Color - \"+self.eye_color)\n",
    "        print(\"Number of toys - \"+str(self.number_of_toys))\n",
    "        \n",
    "sarah_oliveira = Parent(\"Oliveira\", \"brown\")\n",
    "#print(sarah_oliveira.last_name) \n",
    "#sarah_oliveira.show_info()\n",
    "\n",
    "emmanuel_alves = Child(\"Alves\", \"Green\", 5)\n",
    "#print(emmanuel_alves.last_name)\n",
    "#print(emmanuel_alves.number_of_toys)\n",
    "emmanuel_alves.show_info()\n"
   ]
  },
  {
   "cell_type": "code",
   "execution_count": null,
   "metadata": {},
   "outputs": [],
   "source": []
  },
  {
   "cell_type": "code",
   "execution_count": null,
   "metadata": {},
   "outputs": [],
   "source": []
  }
 ],
 "metadata": {
  "kernelspec": {
   "display_name": "Python 2",
   "language": "python",
   "name": "python2"
  },
  "language_info": {
   "codemirror_mode": {
    "name": "ipython",
    "version": 2
   },
   "file_extension": ".py",
   "mimetype": "text/x-python",
   "name": "python",
   "nbconvert_exporter": "python",
   "pygments_lexer": "ipython2",
   "version": "2.7.15"
  }
 },
 "nbformat": 4,
 "nbformat_minor": 2
}
