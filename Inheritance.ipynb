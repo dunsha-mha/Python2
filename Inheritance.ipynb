{
 "cells": [
  {
   "cell_type": "code",
   "execution_count": 6,
   "metadata": {},
   "outputs": [
    {
     "name": "stdout",
     "output_type": "stream",
     "text": [
      "Child Constructor Called\n",
      "Alves\n",
      "5\n"
     ]
    }
   ],
   "source": [
    "class Parent():\n",
    "    def __init__(self, last_name, eye_color):\n",
    "        print(\"Parent Constructor Called\")\n",
    "        self.last_name = last_name\n",
    "        self.eye_color = eye_color\n",
    "\n",
    "        \n",
    "#sarah_oliveira = Parent(\"Oliveira\", \"brown\")\n",
    "#print(sarah_oliveira.last_name)        \n",
    "        \n",
    "class Child(Parent):\n",
    "    def __init__(self, last_name, eye_color, number_of_toys):\n",
    "        print(\"Child Constructor Called\")\n",
    "        Parent.__init__(self, last_name, eye_color)\n",
    "        self.number_of_toys = number_of_toys\n",
    "        \n",
    "emmanuel_alves = Child(\"Alves\", \"Green\", 5)\n",
    "print(emmanuel_alves.last_name)\n",
    "print(emmanuel_alves.number_of_toys)\n"
   ]
  },
  {
   "cell_type": "code",
   "execution_count": null,
   "metadata": {},
   "outputs": [],
   "source": []
  }
 ],
 "metadata": {
  "kernelspec": {
   "display_name": "Python 2",
   "language": "python",
   "name": "python2"
  },
  "language_info": {
   "codemirror_mode": {
    "name": "ipython",
    "version": 2
   },
   "file_extension": ".py",
   "mimetype": "text/x-python",
   "name": "python",
   "nbconvert_exporter": "python",
   "pygments_lexer": "ipython2",
   "version": "2.7.15"
  }
 },
 "nbformat": 4,
 "nbformat_minor": 2
}
