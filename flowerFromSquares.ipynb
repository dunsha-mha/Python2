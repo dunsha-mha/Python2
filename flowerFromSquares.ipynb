{
 "cells": [
  {
   "cell_type": "code",
   "execution_count": null,
   "metadata": {},
   "outputs": [],
   "source": [
    "import turtle\n",
    "\n",
    "def draw_square(some_turtle):\n",
    "    for i in range (1,5):\n",
    "        some_turtle.forward(100)\n",
    "        some_turtle.right(90)\n",
    "            \n",
    "def draw_shapes():\n",
    "    window = turtle.Screen()\n",
    "    window.bgcolor(\"yellow\")\n",
    "    #draws a square\n",
    "    moe = turtle.Turtle()\n",
    "    moe.shape(\"turtle\")\n",
    "    turtle.shapesize()\n",
    "    (50,50,50)\n",
    "    moe.color(\"red\",\"white\")\n",
    "    moe.speed(50)\n",
    "   \n",
    "    for i in range (1,37):\n",
    "        draw_square(moe)\n",
    "        moe.right(10)\n",
    "\n",
    "    moe.right(90)\n",
    "    moe.forward(300)\n",
    "\n",
    "    window.exitonclick()\n",
    "\n",
    "draw_shapes()"
   ]
  }
 ],
 "metadata": {
  "kernelspec": {
   "display_name": "Python 2",
   "language": "python",
   "name": "python2"
  },
  "language_info": {
   "codemirror_mode": {
    "name": "ipython",
    "version": 2
   },
   "file_extension": ".py",
   "mimetype": "text/x-python",
   "name": "python",
   "nbconvert_exporter": "python",
   "pygments_lexer": "ipython2",
   "version": "2.7.15"
  }
 },
 "nbformat": 4,
 "nbformat_minor": 2
}
