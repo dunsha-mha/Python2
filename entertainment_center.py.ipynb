{
 "cells": [
  {
   "cell_type": "code",
   "execution_count": 1,
   "metadata": {},
   "outputs": [
    {
     "ename": "ImportError",
     "evalue": "No module named fresh_tomatoes",
     "output_type": "error",
     "traceback": [
      "\u001b[1;31m\u001b[0m",
      "\u001b[1;31mImportError\u001b[0mTraceback (most recent call last)",
      "\u001b[1;32m<ipython-input-1-65f3a7d0347f>\u001b[0m in \u001b[0;36m<module>\u001b[1;34m()\u001b[0m\n\u001b[1;32m----> 1\u001b[1;33m \u001b[1;32mimport\u001b[0m \u001b[0mfresh_tomatoes\u001b[0m\u001b[1;33m\u001b[0m\u001b[0m\n\u001b[0m\u001b[0;32m      2\u001b[0m \u001b[1;32mimport\u001b[0m \u001b[0mmedia\u001b[0m\u001b[1;33m\u001b[0m\u001b[0m\n\u001b[0;32m      3\u001b[0m \u001b[1;33m\u001b[0m\u001b[0m\n\u001b[0;32m      4\u001b[0m toy_story = media.Movie(\"Toy Story\",\n\u001b[0;32m      5\u001b[0m                             \u001b[1;34m\"A story of a boy and his toys\"\u001b[0m\u001b[1;33m,\u001b[0m\u001b[1;33m\u001b[0m\u001b[0m\n",
      "\u001b[1;31mImportError\u001b[0m: No module named fresh_tomatoes"
     ]
    }
   ],
   "source": [
    "import fresh_tomatoes\n",
    "import media\n",
    "\n",
    "toy_story = media.Movie(\"Toy Story\",\n",
    "                        \"A story of a boy and his toys\",\n",
    "                        \"https://vignette.wikia.nocookie.net/disney/images/4/4c/Toy-story-movie-posters-4.jpg/revision/latest?cb=20140816182710\",\n",
    "                        \"https://www.youtube.com/watch?v=KYz2wyBy3kc\")\n",
    "\n",
    "#print(toy_story.storyline)\n",
    "\n",
    "avatar = media.Movie(\"Avatar\",\n",
    "                        \"A story of a blue alien\",\n",
    "                        \"http://images4.fanpop.com/image/photos/16700000/Movie-posters-avatar-16792247-289-417.jpg\",\n",
    "                        \"https://www.youtube.com/watch?v=3bWyWppJcgo\")\n",
    "#print(avatar.storyline)\n",
    "#avatar.show_trailer()\n",
    "\n",
    "got = media.Movie(\"Game of Thrones 1995\",\n",
    "                  \"What if Game of Thrones was made in 1995?\",\n",
    "                  \"http://cdn.pastemagazine.com/www/blogs/lists/winter-is-coming-game-of-thrones.jpg\",\n",
    "                  \"https://www.youtube.com/watch?v=2fPgIIB67bw\")\n",
    "\n",
    "#print(got.storyline)                  \n",
    "#got.show_trailer()\n",
    "\n",
    "#movies = [toy_story, avatar, got]\n",
    "#fresh_tomatoes.open_movies_page (movies)\n",
    "\n",
    "#print(media.Movie.VALID_RATINGS)\n",
    "print(media.Movie.__doc__)\n"
   ]
  }
 ],
 "metadata": {
  "kernelspec": {
   "display_name": "Python 2",
   "language": "python",
   "name": "python2"
  },
  "language_info": {
   "codemirror_mode": {
    "name": "ipython",
    "version": 2
   },
   "file_extension": ".py",
   "mimetype": "text/x-python",
   "name": "python",
   "nbconvert_exporter": "python",
   "pygments_lexer": "ipython2",
   "version": "2.7.15"
  }
 },
 "nbformat": 4,
 "nbformat_minor": 2
}
