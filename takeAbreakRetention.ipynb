{
 "cells": [
  {
   "cell_type": "code",
   "execution_count": 5,
   "metadata": {},
   "outputs": [
    {
     "name": "stdout",
     "output_type": "stream",
     "text": [
      "time.ctime() : Fri Aug 10 20:36:06 2018\n"
     ]
    }
   ],
   "source": [
    "import time\n",
    "import webbrowser\n",
    "\n",
    "rest = 1\n",
    "\n",
    "# print (\"This program started on \"+time.ctime())\n",
    "print \"time.ctime() : %s\" % time.ctime()\n",
    "\n",
    "while rest <= 3:\n",
    "        time.sleep(10)\n",
    "        webbrowser.open (\"https://www.youtube.com/\")\n",
    "        rest = rest+1"
   ]
  },
  {
   "cell_type": "code",
   "execution_count": null,
   "metadata": {},
   "outputs": [],
   "source": []
  }
 ],
 "metadata": {
  "kernelspec": {
   "display_name": "Python 2",
   "language": "python",
   "name": "python2"
  },
  "language_info": {
   "codemirror_mode": {
    "name": "ipython",
    "version": 2
   },
   "file_extension": ".py",
   "mimetype": "text/x-python",
   "name": "python",
   "nbconvert_exporter": "python",
   "pygments_lexer": "ipython2",
   "version": "2.7.15"
  }
 },
 "nbformat": 4,
 "nbformat_minor": 2
}
