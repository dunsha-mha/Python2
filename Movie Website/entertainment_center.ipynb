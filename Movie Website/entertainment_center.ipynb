{
 "cells": [
  {
   "cell_type": "code",
   "execution_count": null,
   "metadata": {},
   "outputs": [],
   "source": [
    "import media\n",
    "\n",
    "toy_story = media.Movie(\"Toy Story\",\n",
    "                        \"A story of a boy and his toys\",\n",
    "                        \"https://en.wikipedia.org/wiki/Toy_Story#/media/File:Toy_Story.jpg\",\n",
    "                        \"https://www.youtube.com/watch?v=KYz2wyBy3kc\")\n",
    "\n",
    "#print(toy_story.storyline)\n",
    "\n",
    "avatar = media.Movie(\"Avatar\",\n",
    "                        \"A story of a blue alien\",\n",
    "                        \"https://en.wikipedia.org/wiki/Avatar_(2009_film)#/media/File:Avatar-Teaser-Poster.jpg\",\n",
    "                        \"https://www.youtube.com/watch?v=3bWyWppJcgo\")\n",
    "#print(avatar.storyline)\n",
    "#avatar.show_trailer()\n",
    "\n",
    "got = media.Movie(\"Game of Thrones 1995\",\n",
    "                  \"What if Game of Thrones was made in 1995?\",\n",
    "                  \"https://en.wikipedia.org/wiki/Game_of_Thrones#/media/File:Game_of_Thrones_title_card.jpg\",\n",
    "                  \"https://www.youtube.com/watch?v=2fPgIIB67bw\")\n",
    "\n",
    "print(got.storyline)                  \n",
    "got.show_trailer()"
   ]
  }
 ],
 "metadata": {
  "kernelspec": {
   "display_name": "Python 2",
   "language": "python",
   "name": "python2"
  },
  "language_info": {
   "codemirror_mode": {
    "name": "ipython",
    "version": 2
   },
   "file_extension": ".py",
   "mimetype": "text/x-python",
   "name": "python",
   "nbconvert_exporter": "python",
   "pygments_lexer": "ipython2",
   "version": "2.7.15"
  }
 },
 "nbformat": 4,
 "nbformat_minor": 2
}
