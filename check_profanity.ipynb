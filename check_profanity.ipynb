{
 "cells": [
  {
   "cell_type": "code",
   "execution_count": 26,
   "metadata": {},
   "outputs": [
    {
     "name": "stdout",
     "output_type": "stream",
     "text": [
      "-- Houston, we have a problem. (Apollo 13)\n",
      "\n",
      "-- Mama always said, life is like a box of chocolates. You never know what you are going to get. (Forrest Gump)\n",
      "\n",
      "-- You cant handle the truth. (A Few Good Men)\n",
      "\n",
      "-- I believe everything and I believe nothing. (A Shot in the Dark)\n",
      "false\n",
      "Could not scan the document properly.\n"
     ]
    }
   ],
   "source": [
    "import urllib\n",
    "\n",
    "def read_text():\n",
    "    quotes = open(\"C:\\Users\\moren\\Documents\\Python2\\movie_quotes.txt\")\n",
    "    contents_of_file = quotes.read()\n",
    "    print (contents_of_file)\n",
    "    quotes.close()\n",
    "    check_profanity(contents_of_file)\n",
    "    \n",
    "def check_profanity(text_to_check):\n",
    "    connection = urllib.urlopen(\"http://www.wdylike.appspot.com/?q=QUERY\"+text_to_check)\n",
    "    output = connection.read()\n",
    "    print(output)\n",
    "    connection.close()\n",
    "\n",
    "    if \"true\" in output:\n",
    "        print(\"This document has no curse words!\")\n",
    "    else:\n",
    "        print(\"Could not scan the document properly.\")\n",
    "\n",
    "read_text()\n",
    "\n",
    "# open is built into Python\n",
    "# open returns an object of the file type\n",
    "\n",
    "# urlopen is inside urllib\n",
    "\n"
   ]
  },
  {
   "cell_type": "code",
   "execution_count": 27,
   "metadata": {},
   "outputs": [
    {
     "data": {
      "text/plain": [
       "0"
      ]
     },
     "execution_count": 27,
     "metadata": {},
     "output_type": "execute_result"
    }
   ],
   "source": [
    "cmp(6,6)\n",
    "\n",
    "# cmp(x, y)\n",
    "# Compare the two objects x and y and return an integer according to the outcome.\n",
    "# The return value is negative if x < y, zero if x == y and strictly positive if x > y."
   ]
  }
 ],
 "metadata": {
  "kernelspec": {
   "display_name": "Python 2",
   "language": "python",
   "name": "python2"
  },
  "language_info": {
   "codemirror_mode": {
    "name": "ipython",
    "version": 2
   },
   "file_extension": ".py",
   "mimetype": "text/x-python",
   "name": "python",
   "nbconvert_exporter": "python",
   "pygments_lexer": "ipython2",
   "version": "2.7.15"
  }
 },
 "nbformat": 4,
 "nbformat_minor": 2
}
